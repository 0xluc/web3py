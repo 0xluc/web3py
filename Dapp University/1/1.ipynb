{
 "cells": [
  {
   "cell_type": "code",
   "execution_count": 2,
   "metadata": {},
   "outputs": [],
   "source": [
    "# Connect to the rpc\n",
    "from web3 import Web3\n",
    "bsc_url = \"https://data-seed-prebsc-1-s1.binance.org:8545/\"\n",
    "web3 = Web3(Web3.HTTPProvider(bsc_url))"
   ]
  },
  {
   "cell_type": "code",
   "execution_count": 7,
   "metadata": {},
   "outputs": [
    {
     "data": {
      "text/plain": [
       "True"
      ]
     },
     "execution_count": 7,
     "metadata": {},
     "output_type": "execute_result"
    }
   ],
   "source": [
    "# Check connection\n",
    "web3.isConnected()"
   ]
  },
  {
   "cell_type": "code",
   "execution_count": 4,
   "metadata": {},
   "outputs": [
    {
     "name": "stdout",
     "output_type": "stream",
     "text": [
      "20157332\n",
      "3955566225208408321\n",
      "3.955566225208408321\n"
     ]
    }
   ],
   "source": [
    "# Check latest block\n",
    "print(web3.eth.blockNumber)\n",
    "# Check balance from my bsc testnet wallet in Wei\n",
    "balance = web3.eth.get_balance(\"0xe91527A8B992c2eB9fe598f7711Dc3CB9ba8147f\")\n",
    "print(balance)\n",
    "# Check balance from my bsc testnet wallet in BNB\n",
    "balance_HumanReadable = web3.fromWei(balance, \"ether\")\n",
    "print(balance_HumanReadable)\n"
   ]
  }
 ],
 "metadata": {
  "kernelspec": {
   "display_name": "Python 3.10.4 64-bit",
   "language": "python",
   "name": "python3"
  },
  "language_info": {
   "codemirror_mode": {
    "name": "ipython",
    "version": 3
   },
   "file_extension": ".py",
   "mimetype": "text/x-python",
   "name": "python",
   "nbconvert_exporter": "python",
   "pygments_lexer": "ipython3",
   "version": "3.10.4"
  },
  "orig_nbformat": 4,
  "vscode": {
   "interpreter": {
    "hash": "e7370f93d1d0cde622a1f8e1c04877d8463912d04d973331ad4851f04de6915a"
   }
  }
 },
 "nbformat": 4,
 "nbformat_minor": 2
}
