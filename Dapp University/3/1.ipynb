{
 "cells": [
  {
   "cell_type": "code",
   "execution_count": 20,
   "metadata": {},
   "outputs": [
    {
     "data": {
      "text/plain": [
       "True"
      ]
     },
     "execution_count": 20,
     "metadata": {},
     "output_type": "execute_result"
    }
   ],
   "source": [
    "# Connect to ganache rpc\n",
    "from web3 import Web3\n",
    "ganache_url = \"HTTP://127.0.0.1:7545\"\n",
    "w3 = Web3(Web3.HTTPProvider(ganache_url))\n",
    "w3.isConnected()"
   ]
  },
  {
   "cell_type": "code",
   "execution_count": 21,
   "metadata": {},
   "outputs": [],
   "source": [
    "# transaction accounts\n",
    "account_1 = \"0x2C8B611F3279D9c339E97C274F2AB5806C4F6a2e\"\n",
    "account_2 = \"0xF6a115c4C0F612b0D6466f54e4d891C838442831\"\n",
    "\n",
    "# account_1 private key\n",
    "private_key_1 = \"d38e4e216a001c3fd901fa98b6949a0907c8abf2fd69ccc608265bc6d894f92e\""
   ]
  },
  {
   "cell_type": "code",
   "execution_count": 22,
   "metadata": {},
   "outputs": [
    {
     "name": "stdout",
     "output_type": "stream",
     "text": [
      "2\n"
     ]
    }
   ],
   "source": [
    "# Get nonce (number of transactions that have been sent from account)\n",
    "nonce = w3.eth.get_transaction_count(account_1)\n",
    "print(nonce)"
   ]
  },
  {
   "cell_type": "code",
   "execution_count": 23,
   "metadata": {},
   "outputs": [],
   "source": [
    "# Build transaction\n",
    "tx = {\n",
    "    'nonce' : nonce,\n",
    "    'to' : account_2,\n",
    "    'value' : w3.toWei(1,'ether'),\n",
    "    'gas': 2000000,\n",
    "    'gasPrice': w3.toWei('30','gwei')\n",
    "}"
   ]
  },
  {
   "cell_type": "code",
   "execution_count": 24,
   "metadata": {},
   "outputs": [
    {
     "name": "stdout",
     "output_type": "stream",
     "text": [
      "SignedTransaction(rawTransaction=HexBytes('0xf86d028506fc23ac00831e848094f6a115c4c0f612b0d6466f54e4d891c838442831880de0b6b3a7640000801ca02b7355a130525916b9170a5a51ae81f6ee0baba0dc501bebe3fa55c10b1a4641a0220deaefcb85d09c2182907cc9d8f291fa50142f40827309688da2437dda820b'), hash=HexBytes('0x5e21be71f15b97a035714770457da3bdd31271f7655f28277af6747acbb84c7f'), r=19653230895609725510766357547155632011424662508282219860187813487673372984897, s=15403227337179022100317553794164555052089111493482984730202808534884928881163, v=28)\n"
     ]
    }
   ],
   "source": [
    "# Sign transacation\n",
    "signed_tx = w3.eth.account.signTransaction(tx, private_key_1)\n",
    "print(signed_tx)"
   ]
  },
  {
   "cell_type": "code",
   "execution_count": 25,
   "metadata": {},
   "outputs": [],
   "source": [
    "# Send transaction\n",
    "tx_hash = w3.eth.sendRawTransaction(signed_tx.rawTransaction)"
   ]
  },
  {
   "cell_type": "code",
   "execution_count": 26,
   "metadata": {},
   "outputs": [
    {
     "name": "stdout",
     "output_type": "stream",
     "text": [
      "0x5e21be71f15b97a035714770457da3bdd31271f7655f28277af6747acbb84c7f\n"
     ]
    }
   ],
   "source": [
    "# Get transaction hash\n",
    "print(w3.toHex(tx_hash))"
   ]
  }
 ],
 "metadata": {
  "kernelspec": {
   "display_name": "Python 3.10.4 64-bit",
   "language": "python",
   "name": "python3"
  },
  "language_info": {
   "codemirror_mode": {
    "name": "ipython",
    "version": 3
   },
   "file_extension": ".py",
   "mimetype": "text/x-python",
   "name": "python",
   "nbconvert_exporter": "python",
   "pygments_lexer": "ipython3",
   "version": "3.10.5"
  },
  "orig_nbformat": 4,
  "vscode": {
   "interpreter": {
    "hash": "e7370f93d1d0cde622a1f8e1c04877d8463912d04d973331ad4851f04de6915a"
   }
  }
 },
 "nbformat": 4,
 "nbformat_minor": 2
}
