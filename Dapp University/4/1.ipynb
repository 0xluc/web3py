{
 "cells": [
  {
   "cell_type": "code",
   "execution_count": 8,
   "metadata": {},
   "outputs": [
    {
     "data": {
      "text/plain": [
       "True"
      ]
     },
     "execution_count": 8,
     "metadata": {},
     "output_type": "execute_result"
    }
   ],
   "source": [
    "# Connect to ganache rpc\n",
    "import json\n",
    "from web3 import Web3\n",
    "ganache_url = \"HTTP://127.0.0.1:7545\"\n",
    "w3 = Web3(Web3.HTTPProvider(ganache_url))\n",
    "w3.isConnected()"
   ]
  },
  {
   "cell_type": "code",
   "execution_count": 19,
   "metadata": {},
   "outputs": [],
   "source": [
    "# transaction accounts\n",
    "w3.eth.defaultAccount = \"0x2C8B611F3279D9c339E97C274F2AB5806C4F6a2e\"\n"
   ]
  },
  {
   "cell_type": "code",
   "execution_count": 14,
   "metadata": {},
   "outputs": [],
   "source": [
    "# remove possible lower case and uppercase errors from the address\n",
    "address = w3.toChecksumAddress('0x36dEBd5340408cB6e5F38413be874f1E3055368F')\n",
    "abi = json.loads('[{\"constant\":false,\"inputs\":[{\"name\":\"_greeting\",\"type\":\"string\"}],\"name\":\"setGreeting\",\"outputs\":[],\"payable\":false,\"stateMutability\":\"nonpayable\",\"type\":\"function\"},{\"constant\":true,\"inputs\":[],\"name\":\"greet\",\"outputs\":[{\"name\":\"\",\"type\":\"string\"}],\"payable\":false,\"stateMutability\":\"view\",\"type\":\"function\"},{\"constant\":true,\"inputs\":[],\"name\":\"greeting\",\"outputs\":[{\"name\":\"\",\"type\":\"string\"}],\"payable\":false,\"stateMutability\":\"view\",\"type\":\"function\"},{\"inputs\":[],\"payable\":false,\"stateMutability\":\"nonpayable\",\"type\":\"constructor\"}]')\n",
    "contract = w3.eth.contract(address=address,abi=abi)"
   ]
  },
  {
   "cell_type": "code",
   "execution_count": 32,
   "metadata": {},
   "outputs": [
    {
     "data": {
      "text/plain": [
       "'Hello!'"
      ]
     },
     "execution_count": 32,
     "metadata": {},
     "output_type": "execute_result"
    }
   ],
   "source": [
    "# interacts with greater.sol, getting the current greeting\n",
    "contract.functions.greet().call()"
   ]
  },
  {
   "cell_type": "code",
   "execution_count": 33,
   "metadata": {},
   "outputs": [
    {
     "name": "stdout",
     "output_type": "stream",
     "text": [
      "0x9292790c90b6da6558283a8eda3417c2b33ec39a081289324e2055597a470932\n",
      "Updated Greeting: Hello again!\n"
     ]
    }
   ],
   "source": [
    "# change the greeting to something else and prints what is the current greeting after the transaction is completed\n",
    "tx_hash = contract.functions.setGreeting('Hello again!').transact()\n",
    "print(w3.toHex(tx_hash))\n",
    "w3.eth.waitForTransactionReceipt(tx_hash)\n",
    "print('Updated Greeting: {}'.format(contract.functions.greet().call()))"
   ]
  }
 ],
 "metadata": {
  "kernelspec": {
   "display_name": "Python 3.10.4 64-bit",
   "language": "python",
   "name": "python3"
  },
  "language_info": {
   "name": "python",
   "version": "3.10.4"
  },
  "orig_nbformat": 4,
  "vscode": {
   "interpreter": {
    "hash": "e7370f93d1d0cde622a1f8e1c04877d8463912d04d973331ad4851f04de6915a"
   }
  }
 },
 "nbformat": 4,
 "nbformat_minor": 2
}
