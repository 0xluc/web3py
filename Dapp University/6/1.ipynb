{
 "cells": [
  {
   "cell_type": "code",
   "execution_count": 1,
   "metadata": {},
   "outputs": [
    {
     "data": {
      "text/plain": [
       "True"
      ]
     },
     "execution_count": 1,
     "metadata": {},
     "output_type": "execute_result"
    }
   ],
   "source": [
    "# Connect to the goerli rpc\n",
    "import json\n",
    "from web3 import Web3\n",
    "goerli_url = \"https://goerli.infura.io/v3/9aa3d95b3bc440fa88ea12eaa4456161\"\n",
    "w3 = Web3(Web3.HTTPProvider(goerli_url))\n",
    "w3.isConnected()"
   ]
  },
  {
   "cell_type": "code",
   "execution_count": 7,
   "metadata": {},
   "outputs": [
    {
     "name": "stdout",
     "output_type": "stream",
     "text": [
      "7060435\n"
     ]
    }
   ],
   "source": [
    "lastBlock = w3.eth.blockNumber\n",
    "print(lastBlock)"
   ]
  },
  {
   "cell_type": "code",
   "execution_count": 9,
   "metadata": {},
   "outputs": [
    {
     "name": "stdout",
     "output_type": "stream",
     "text": [
      "AttributeDict({'blockHash': HexBytes('0xdaf842dba99e4d9e298ecf6d39a776a18878ef0bb5c456fec1c90e7d32587317'), 'blockNumber': 7060562, 'from': '0x9f2CA7C304ed2435049802808e2F9278eCd7b56b', 'gas': 1700000, 'gasPrice': 3577912430, 'hash': HexBytes('0xdd28f5f72732fa1baf490d749feca24acd0c976d4cb11d5f0b6e165489e6964d'), 'input': '0x928bc4b2000000000000000000000000000000000000000000000000000000000000002000000000000000000000000000000000000000000000000000000000000000f1000004570000000000000000000000002307ed9f152fa9b3dcdfe2385d279d8c2a9df2b000008d1f00000d03000000000000000000000000ec3a723de47a644b901dc269829bf8718f175ebf000008ad0000000000000000000000003ffc03f05d1869f493c7dbf913e636c6280e0ff903000000000000000000000000604039682f956ddc3527f7cd7a8651cff104ca2d00000000000000000000000000000000000000000000003635c9adc5dea0000020b4b2eeb4ea213a5e7d1e1d2a3a1a437fbe7c8b3490898b0474b0fe66dda70afa3f6ba12278c8dfe8479de52077e2e907c4977ee1dcc74d3af33d3dbd08587a000000000000000000000000000000', 'nonce': 72256, 'r': HexBytes('0x67ec2fc94eea96c12670c0e97c412a5619ce0f68f48e00259a7aab6cc0d8dfff'), 's': HexBytes('0x730b186fe8333c3a21fd530a4bf6af709404dabb9e900e6448b415e34ed7a644'), 'to': '0xf89e0dcEa5ae9626810427A62B135394D86913b2', 'transactionIndex': 2, 'type': '0x0', 'v': 45, 'value': 0})\n"
     ]
    }
   ],
   "source": [
    "hash = '0xdaf842dba99e4d9e298ecf6d39a776a18878ef0bb5c456fec1c90e7d32587317'\n",
    "print(w3.eth.getTransactionByBlock(hash, 2))"
   ]
  }
 ],
 "metadata": {
  "kernelspec": {
   "display_name": "Python 3.10.4 64-bit",
   "language": "python",
   "name": "python3"
  },
  "language_info": {
   "codemirror_mode": {
    "name": "ipython",
    "version": 3
   },
   "file_extension": ".py",
   "mimetype": "text/x-python",
   "name": "python",
   "nbconvert_exporter": "python",
   "pygments_lexer": "ipython3",
   "version": "3.10.4"
  },
  "orig_nbformat": 4,
  "vscode": {
   "interpreter": {
    "hash": "e7370f93d1d0cde622a1f8e1c04877d8463912d04d973331ad4851f04de6915a"
   }
  }
 },
 "nbformat": 4,
 "nbformat_minor": 2
}
